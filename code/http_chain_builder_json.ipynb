{
 "cells": [
  {
   "cell_type": "code",
   "execution_count": null,
   "metadata": {},
   "outputs": [],
   "source": [
    "import json\n",
    "import sqlite3\n",
    "import pandas as pd\n",
    "from tqdm.notebook import tqdm\n",
    "import utilities"
   ]
  },
  {
   "cell_type": "code",
   "execution_count": null,
   "metadata": {},
   "outputs": [],
   "source": [
    "base_directory = 'khaleesi/data/'\n",
    "db_dir = base_directory + 'crawl.sqlite'\n",
    "json_representation_dir = base_directory + 'crawl-http.json'"
   ]
  },
  {
   "cell_type": "code",
   "execution_count": null,
   "metadata": {
    "tags": []
   },
   "outputs": [],
   "source": [
    "con = sqlite3.connect(db_dir)\n",
    "con.row_factory = sqlite3.Row"
   ]
  },
  {
   "cell_type": "code",
   "execution_count": null,
   "metadata": {},
   "outputs": [],
   "source": [
    "# replace browser_id with crawl_id for older schemas\n",
    "requests = pd.read_sql(\"SELECT id, browser_id, visit_id, request_id, url, top_level_url, referrer, headers, method, resource_type, time_stamp FROM http_requests\", con, index_col=['browser_id', 'visit_id', 'request_id'], parse_dates=['time_stamp'])"
   ]
  },
  {
   "cell_type": "code",
   "execution_count": null,
   "metadata": {},
   "outputs": [],
   "source": [
    "# replace browser_id with crawl_id for older schemas\n",
    "redirects = pd.read_sql(\"SELECT id, browser_id, visit_id, old_request_id, old_request_url, response_status, headers, time_stamp FROM http_redirects\", con, index_col=['browser_id', 'visit_id', 'old_request_id'], parse_dates=['time_stamp'])"
   ]
  },
  {
   "cell_type": "code",
   "execution_count": null,
   "metadata": {},
   "outputs": [],
   "source": [
    "json_representation = {}\n",
    "seen_chains = set()\n",
    "pbar = tqdm(total=len(requests), position=0, leave=True)\n",
    "\n",
    "for index, requests_chain_row in requests.groupby(level=[0,1,2]):\n",
    "    pbar.update(len(requests_chain_row))\n",
    "    \n",
    "    # ignoring non redirects \n",
    "    if len(requests_chain_row) < 2:\n",
    "        continue\n",
    "    \n",
    "    requests_chain = requests_chain_row.sort_values(by='time_stamp')\n",
    "    crawl_browser_id = index[0]\n",
    "    visit_id = index[1]\n",
    "    request_id = index[2]\n",
    "\n",
    "    chain_id = 'H|' + str(crawl_browser_id) + '|' + str(visit_id) + '|' + str(request_id)\n",
    "\n",
    "    if chain_id in seen_chains:\n",
    "        continue\n",
    "    \n",
    "    seen_chains.add(chain_id)\n",
    "    current_redirects = redirects.loc[(redirects.index.get_level_values('browser_id') == crawl_browser_id) &\\\n",
    "                                      (redirects.index.get_level_values('visit_id') == visit_id) &\\\n",
    "                                      (redirects.index.get_level_values('old_request_id') == request_id)]\n",
    "\n",
    "    considered_ids = set()\n",
    "    first_redirect = True \n",
    "    \n",
    "    json_representation[chain_id] = {}\n",
    "    json_representation[chain_id]['top_url'] = requests_chain.iloc[0]['top_level_url']\n",
    "    json_representation[chain_id]['content'] = []\n",
    "    json_representation[chain_id]['length'] = 0\n",
    "    \n",
    "    redirect_id_counter = 0 \n",
    "    for idx, request in requests_chain.iterrows():\n",
    "        current_responses = current_redirects[current_redirects.old_request_url == request['url']].sort_values(by='time_stamp')\n",
    "        chain_item = {}\n",
    "        chain_item['url'] = request['url']\n",
    "        chain_item['referrer'] = request['referrer']\n",
    "        chain_item['request_headers'] = json.loads(request['headers'])\n",
    "        chain_item['resource_type'] = request['resource_type']\n",
    "        chain_item['method'] = request['method']\n",
    "        chain_item['time_stamp'] = request['time_stamp'].isoformat()\n",
    "        \n",
    "        response_status = 0\n",
    "        response_headers = []\n",
    "        response_time_stamp = ''\n",
    "        \n",
    "        # We may recieve multiple responses for a request. Though unlikely. \n",
    "        for i, current_response in current_responses.iterrows():\n",
    "            \n",
    "            if current_response['id'] in considered_ids:\n",
    "                continue\n",
    "            response_status = current_response['response_status']\n",
    "            response_headers = json.loads(current_response['headers'])\n",
    "            response_time_stamp = current_response['time_stamp'].isoformat()\n",
    "            considered_ids.add(current_response['id'])\n",
    "        \n",
    "        chain_item['response_status'] = response_status\n",
    "        chain_item['response_headers'] = response_headers\n",
    "        chain_item['response_time_stamp'] = response_time_stamp\n",
    "        chain_item['redirect_id'] = redirect_id_counter\n",
    "        redirect_id_counter += 1\n",
    "        \n",
    "        if response_headers == [] and response_status == 0:\n",
    "            if first_redirect:\n",
    "                del json_representation[chain_id]\n",
    "                break\n",
    "            else:\n",
    "                json_representation[chain_id]['content'].append(chain_item)\n",
    "                json_representation[chain_id]['length'] += 1\n",
    "                break\n",
    "        \n",
    "        first_redirect = False\n",
    "        json_representation[chain_id]['content'].append(chain_item)\n",
    "        json_representation[chain_id]['length'] += 1"
   ]
  },
  {
   "cell_type": "code",
   "execution_count": null,
   "metadata": {},
   "outputs": [],
   "source": [
    "utilities.write_json(json_representation_dir, json_representation)"
   ]
  }
 ],
 "metadata": {
  "kernelspec": {
   "display_name": "Python 3",
   "language": "python",
   "name": "python3"
  },
  "language_info": {
   "codemirror_mode": {
    "name": "ipython",
    "version": 3
   },
   "file_extension": ".py",
   "mimetype": "text/x-python",
   "name": "python",
   "nbconvert_exporter": "python",
   "pygments_lexer": "ipython3",
   "version": "3.5.2"
  }
 },
 "nbformat": 4,
 "nbformat_minor": 2
}
