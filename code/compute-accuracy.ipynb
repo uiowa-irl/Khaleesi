{
 "cells": [
  {
   "cell_type": "code",
   "execution_count": null,
   "metadata": {},
   "outputs": [],
   "source": [
    "import json\n",
    "import utilities\n",
    "from tqdm.notebook import tqdm"
   ]
  },
  {
   "cell_type": "code",
   "execution_count": null,
   "metadata": {},
   "outputs": [],
   "source": [
    "base_directory = 'khaleesi/data/'\n",
    "json_representation_http_dir = base_directory + 'crawl-http-labeled.json'\n",
    "json_representation_js_dir = base_directory + 'crawl-js-connected-labeled.json'"
   ]
  },
  {
   "cell_type": "code",
   "execution_count": null,
   "metadata": {},
   "outputs": [],
   "source": [
    "results_csv_dir = base_directory + 'detections.csv'"
   ]
  },
  {
   "cell_type": "code",
   "execution_count": null,
   "metadata": {},
   "outputs": [],
   "source": [
    "json_representation_http = utilities.read_json(json_representation_http_dir)\n",
    "json_representation_js = utilities.read_json(json_representation_js_dir)"
   ]
  },
  {
   "cell_type": "code",
   "execution_count": null,
   "metadata": {},
   "outputs": [],
   "source": [
    "results_csv = set(utilities.read_file_newline_stripped(results_csv_dir))"
   ]
  },
  {
   "cell_type": "code",
   "execution_count": null,
   "metadata": {},
   "outputs": [],
   "source": [
    "results_dict = {}\n",
    "results_earliest = set()\n",
    "\n",
    "for item in results_csv:\n",
    "    key = item.rsplit('|', 1)[0]\n",
    "    current_value = item.rsplit('|', 1)[1]\n",
    "    \n",
    "    if item.startswith('H|'):\n",
    "        if key in results_dict:\n",
    "            previous_value = results_dict[key]\n",
    "            if int(current_value) < int(previous_value):\n",
    "                results_dict[key] = current_value\n",
    "\n",
    "        else:\n",
    "            results_dict[key] = current_value\n",
    "            \n",
    "for item in results_dict:\n",
    "    results_earliest.add(item + '|' + results_dict[item])\n",
    "\n",
    "for item in results_csv:\n",
    "    if item.startswith('J|'):\n",
    "        results_earliest.add(item)"
   ]
  },
  {
   "cell_type": "code",
   "execution_count": null,
   "metadata": {},
   "outputs": [],
   "source": [
    "def compute_accuracy_request(tp,tn,fp,fn,json_representation, detections, detections_dict):\n",
    "    fl_detected = set()\n",
    "    our_detected = set()\n",
    "    pbar = tqdm(total=len(json_representation), position=0, leave=True)\n",
    "\n",
    "    for key in json_representation:\n",
    "        pbar.update(1)\n",
    "        for request in json_representation[key]['content'][1:]:\n",
    "            redirect_id = request['redirect_id']\n",
    "            original_label = False \n",
    "            detection_label = False\n",
    "            \n",
    "            \n",
    "            if key.startswith('H|') and key in fl_detected:\n",
    "                original_label = True\n",
    "            \n",
    "            if not original_label:\n",
    "            \n",
    "                if 'ground_truth' in request:\n",
    "                    original_label = request['ground_truth']\n",
    "                    fl_detected.add(key)\n",
    "                else:\n",
    "                    original_label = False\n",
    "            \n",
    "            if key.startswith('H|') and key in our_detected:\n",
    "                detection_label = True\n",
    "            \n",
    "            if not detection_label:\n",
    "                if key +'|' + str(redirect_id) in detections:\n",
    "                    detection_label = True\n",
    "                    our_detected.add(key)\n",
    "                elif key.startswith('H|') and key in detections_dict:\n",
    "                    if int(detections_dict[key]) < int(redirect_id):\n",
    "                        detection_label = True\n",
    "                        our_detected.add(key)\n",
    "                else:\n",
    "                    detection_label = False\n",
    "\n",
    "                \n",
    "            if original_label == True and detection_label == True:\n",
    "                tp += 1   \n",
    "            elif original_label == True and detection_label == False:\n",
    "                fn += 1\n",
    "            elif original_label == False and detection_label == True:\n",
    "                fp += 1\n",
    "            elif original_label == False and detection_label == False:\n",
    "                tn += 1\n",
    "            \n",
    "    return tp,tn,fp,fn"
   ]
  },
  {
   "cell_type": "code",
   "execution_count": null,
   "metadata": {},
   "outputs": [],
   "source": [
    "tp = 0.0\n",
    "tn = 0.0\n",
    "fp = 0.0\n",
    "fn = 0.0\n",
    "\n",
    "tp,tn,fp,fn = compute_accuracy_request(tp,tn,fp,fn,json_representation_http, results_earliest, results_dict)\n",
    "tp,tn,fp,fn = compute_accuracy_request(tp,tn,fp,fn,json_representation_js, results_earliest, results_dict)"
   ]
  },
  {
   "cell_type": "code",
   "execution_count": null,
   "metadata": {},
   "outputs": [],
   "source": [
    "recall = ( (tp) / (tp + fn) ) * 100.0\n",
    "precision = ( (tp) / (tp + fp) ) * 100.0\n",
    "fnr = ( (fn) / (fn + tp) ) * 100.0\n",
    "fpr = ( (fp) / (fp + tn) ) * 100.0\n",
    "accuracy = ( (tp + tn ) / (tp + tn + fp + fn) ) * 100.0 "
   ]
  },
  {
   "cell_type": "code",
   "execution_count": null,
   "metadata": {},
   "outputs": [],
   "source": [
    "print('Recall:', recall)\n",
    "print('Precision:', precision)\n",
    "print('FNR:', fnr)\n",
    "print('FPR:', fpr)\n",
    "print('Accuracy:', accuracy)"
   ]
  }
 ],
 "metadata": {
  "kernelspec": {
   "display_name": "Python 3",
   "language": "python",
   "name": "python3"
  },
  "language_info": {
   "codemirror_mode": {
    "name": "ipython",
    "version": 3
   },
   "file_extension": ".py",
   "mimetype": "text/x-python",
   "name": "python",
   "nbconvert_exporter": "python",
   "pygments_lexer": "ipython3",
   "version": "3.5.2"
  }
 },
 "nbformat": 4,
 "nbformat_minor": 2
}
