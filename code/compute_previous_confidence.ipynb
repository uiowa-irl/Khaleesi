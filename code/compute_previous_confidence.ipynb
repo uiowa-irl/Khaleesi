{
 "cells": [
  {
   "cell_type": "code",
   "execution_count": null,
   "metadata": {},
   "outputs": [],
   "source": [
    "import pandas as pd\n",
    "import numpy as np\n",
    "from sklearn.ensemble import RandomForestClassifier\n",
    "from sklearn.model_selection import cross_val_score, train_test_split, StratifiedKFold, KFold\n",
    "from sklearn.metrics import classification_report, confusion_matrix\n",
    "import joblib\n",
    "from tqdm.notebook import tqdm"
   ]
  },
  {
   "cell_type": "code",
   "execution_count": null,
   "metadata": {},
   "outputs": [],
   "source": [
    "base_directory = 'khaleesi/data/'\n",
    "\n",
    "all_encoded_features = base_directory + 'all-features-encoded.csv'\n",
    "final_data_set = base_directory + 'final_dataset.csv'\n",
    "final_targets = base_directory + 'final_targets.csv'\n",
    "\n",
    "final_classifier = base_directory + 'final_classifier.joblib'"
   ]
  },
  {
   "cell_type": "code",
   "execution_count": null,
   "metadata": {},
   "outputs": [],
   "source": [
    "dataset = pd.read_csv(all_encoded_features)"
   ]
  },
  {
   "cell_type": "code",
   "execution_count": null,
   "metadata": {},
   "outputs": [],
   "source": [
    "dataset_filled = {}\n",
    "targets_filled = {}\n",
    "predictions = []\n",
    "\n",
    "i = 0\n",
    "while i < 30:\n",
    "    dataset_filled[i] = []\n",
    "    targets_filled[i] = []\n",
    "    i += 1"
   ]
  },
  {
   "cell_type": "code",
   "execution_count": null,
   "metadata": {
    "tags": []
   },
   "outputs": [],
   "source": [
    "pbar = tqdm(total=len(dataset), position=0, leave=True)\n",
    "\n",
    "x = dataset.iloc[:,:101]\n",
    "y = dataset.iloc[:,101:]\n",
    "\n",
    "chain_length = 0\n",
    "i = 0\n",
    "while i < len(dataset):\n",
    "    row = x.iloc[i]\n",
    "    target = y.iloc[i]['target']\n",
    "\n",
    "    if target == True:\n",
    "        target = 1\n",
    "    elif target == False:\n",
    "        target = 0\n",
    "\n",
    "    if row['?'] == 1:\n",
    "        chain_length += 1\n",
    "        while chain_length < 30 and i != 0:\n",
    "            dataset_filled[chain_length].append([-1])\n",
    "            targets_filled[chain_length].append(-1)\n",
    "            chain_length += 1\n",
    "        chain_length = 0\n",
    "    else:\n",
    "        chain_length += 1\n",
    "\n",
    "    if chain_length > 29:\n",
    "        pbar.update(1)\n",
    "        i += 1\n",
    "        continue\n",
    "\n",
    "    dataset_filled[chain_length].append(row.values.tolist())\n",
    "    targets_filled[chain_length].append(target)\n",
    "\n",
    "    pbar.update(1)\n",
    "    i += 1"
   ]
  },
  {
   "cell_type": "code",
   "execution_count": null,
   "metadata": {
    "tags": []
   },
   "outputs": [],
   "source": [
    "classifiers = [[RandomForestClassifier(n_estimators=100, n_jobs=7, random_state=1)] * 10] * 30\n",
    "dataset_filled_2d = []\n",
    "targets_filled_2d = []\n",
    "\n",
    "for key in dataset_filled:\n",
    "    dataset_filled_2d.append(dataset_filled[key])\n",
    "    \n",
    "for key in targets_filled:\n",
    "    targets_filled_2d.append(targets_filled[key])\n",
    "\n",
    "i = 0\n",
    "while i < len(classifiers):\n",
    "    skf = KFold(n_splits=10, shuffle=False)\n",
    "    cv_iter = skf.split(np.array(dataset_filled_2d[i]), np.array(targets_filled_2d[i]))\n",
    "    \n",
    "    j = 0\n",
    "    for train, test in cv_iter:\n",
    "        updated_dataset = []\n",
    "        updated_targets = []\n",
    "        for k in train:\n",
    "            if len(dataset_filled_2d[i][k]) != 1:\n",
    "                updated_dataset.append(dataset_filled_2d[i][k])\n",
    "                updated_targets.append(targets_filled_2d[i][k])\n",
    "        \n",
    "        print(i,j)\n",
    "        # drop the identifier \n",
    "        classifiers[i][j].fit(updated_dataset, updated_targets)\n",
    "        \n",
    "        for k in test:\n",
    "            if list(dataset_filled_2d[i][k]) != [-1] and list(dataset_filled_2d[i+1][k]) != [-1] and i < 29:\n",
    "                prediction = (classifiers[i][j].predict_proba([dataset_filled_2d[i][k]]))[0][1]\n",
    "                predictions.append(prediction)\n",
    "                dataset_filled_2d[i+1][k].append(prediction)\n",
    "        j += 1\n",
    "    i += 1"
   ]
  },
  {
   "cell_type": "code",
   "execution_count": null,
   "metadata": {},
   "outputs": [],
   "source": [
    "final_dataset = []\n",
    "final_targets = []\n",
    "\n",
    "avg_prediction = sum(predictions) / len(predictions)\n",
    "\n",
    "i  = 0\n",
    "while i < len(dataset_filled_2d):\n",
    "    j = 0\n",
    "    while j < len(dataset_filled_2d[i]):\n",
    "        if dataset_filled_2d[i][j] != [-1]:\n",
    "            if i == 0:\n",
    "                dataset_filled_2d[i][j].append(avg_prediction)\n",
    "                dataset_filled_2d[i][j].append(avg_prediction)\n",
    "            else:\n",
    "                past_predictions = []\n",
    "                k = i\n",
    "                while k >= 0:\n",
    "                    past_predictions.append(dataset_filled_2d[k][j][-1])\n",
    "                    k -= 1\n",
    "                dataset_filled_2d[i][j].append((sum(past_predictions)/len(past_predictions)))\n",
    "            final_dataset.append(dataset_filled_2d[i][j])\n",
    "            final_targets.append(targets_filled_2d[i][j])\n",
    "        j += 1\n",
    "    i += 1"
   ]
  },
  {
   "cell_type": "code",
   "execution_count": null,
   "metadata": {},
   "outputs": [],
   "source": [
    "pd.DataFrame(final_dataset).to_csv(final_data_set)\n",
    "pd.DataFrame(final_targets).to_csv(final_targets)"
   ]
  },
  {
   "cell_type": "code",
   "execution_count": null,
   "metadata": {},
   "outputs": [],
   "source": [
    "final_classifier = RandomForestClassifier(n_estimators=100, n_jobs=7, random_state=1)\n",
    "final_classifier.fit(final_dataset, final_targets)\n",
    "\n",
    "joblib.dump(final_classifier, final_classifier)"
   ]
  }
 ],
 "metadata": {
  "kernelspec": {
   "display_name": "Python 3",
   "language": "python",
   "name": "python3"
  },
  "language_info": {
   "codemirror_mode": {
    "name": "ipython",
    "version": 3
   },
   "file_extension": ".py",
   "mimetype": "text/x-python",
   "name": "python",
   "nbconvert_exporter": "python",
   "pygments_lexer": "ipython3",
   "version": "3.5.2"
  }
 },
 "nbformat": 4,
 "nbformat_minor": 2
}
