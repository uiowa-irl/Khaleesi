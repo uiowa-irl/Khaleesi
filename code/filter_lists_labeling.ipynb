{
 "cells": [
  {
   "cell_type": "code",
   "execution_count": null,
   "metadata": {},
   "outputs": [],
   "source": [
    "import json\n",
    "from adblockparser import AdblockRules\n",
    "import utilities\n",
    "from openwpm_utils import domain as du\n",
    "from tqdm.notebook import tqdm\n",
    "\n",
    "from multiprocessing import Pool as ThreadPool\n",
    "import multiprocessing"
   ]
  },
  {
   "cell_type": "code",
   "execution_count": null,
   "metadata": {},
   "outputs": [],
   "source": [
    "base_directory = 'khaleesi/'\n",
    "\n",
    "# Replace * with HTTP or JS request chains file name below\n",
    "json_representation_dir = base_directory + 'data/crawl-*.json'\n",
    "json_representation_dir_labeled = base_directory + 'data/crawl-*-labeled.json'\n",
    "\n",
    "easylist_dir = base_directory + 'ground_truth/easylist.txt'\n",
    "easyprivacy_dir = base_directory + 'ground_truth/easyprivacy.txt'"
   ]
  },
  {
   "cell_type": "code",
   "execution_count": null,
   "metadata": {},
   "outputs": [],
   "source": [
    "el_rules = utilities.read_file_newline_stripped(easylist_dir)\n",
    "ep_rules = utilities.read_file_newline_stripped(easyprivacy_dir)"
   ]
  },
  {
   "cell_type": "markdown",
   "metadata": {},
   "source": [
    "## Initialize EL and EP rules"
   ]
  },
  {
   "cell_type": "code",
   "execution_count": null,
   "metadata": {},
   "outputs": [],
   "source": [
    "adblock_el_rules_script = AdblockRules(el_rules, use_re2=True, max_mem=1024*1024*1024, supported_options=['script', 'domain', 'subdocument'], skip_unsupported_rules=False)\n",
    "adblock_el_rules_script_third = AdblockRules(el_rules, use_re2=True, max_mem=1024*1024*1024, supported_options=['third-party', 'script', 'domain', 'subdocument'], skip_unsupported_rules=False)\n",
    " \n",
    "adblock_el_rules_image = AdblockRules(el_rules, use_re2=True, max_mem=1024*1024*1024, supported_options=['image', 'domain', 'subdocument'], skip_unsupported_rules=False)\n",
    "adblock_el_rules_image_third = AdblockRules(el_rules, use_re2=True, max_mem=1024*1024*1024, supported_options=['third-party', 'image', 'domain', 'subdocument'], skip_unsupported_rules=False)\n",
    " \n",
    "adblock_el_rules_css = AdblockRules(el_rules, use_re2=True, max_mem=1024*1024*1024, supported_options=['stylesheet', 'domain', 'subdocument'], skip_unsupported_rules=False)\n",
    "adblock_el_rules_css_third = AdblockRules(el_rules, use_re2=True, max_mem=1024*1024*1024, supported_options=['third-party', 'stylesheet', 'domain', 'subdocument'], skip_unsupported_rules=False)\n",
    "\n",
    "adblock_el_rules_xmlhttp = AdblockRules(el_rules, use_re2=True, max_mem=1024*1024*1024, supported_options=['xmlhttprequest', 'domain', 'subdocument'], skip_unsupported_rules=False)\n",
    "adblock_el_rules_xmlhttp_third = AdblockRules(el_rules, use_re2=True, max_mem=1024*1024*1024, supported_options=['third-party', 'xmlhttprequest', 'domain', 'subdocument'], skip_unsupported_rules=False)\n",
    " \n",
    "adblock_el_rules_third = AdblockRules(el_rules, use_re2=True, max_mem=1024*1024*1024, supported_options=['third-party', 'domain', 'subdocument'], skip_unsupported_rules=False)\n",
    "adblock_el_rules_domain = AdblockRules(el_rules, use_re2=True, max_mem=1024*1024*1024, supported_options=['domain', 'subdocument'], skip_unsupported_rules=False)"
   ]
  },
  {
   "cell_type": "code",
   "execution_count": null,
   "metadata": {},
   "outputs": [],
   "source": [
    "adblock_ep_rules_script = AdblockRules(ep_rules, use_re2=True, max_mem=1024*1024*1024, supported_options=['script', 'domain', 'subdocument'], skip_unsupported_rules=False)\n",
    "adblock_ep_rules_script_third = AdblockRules(ep_rules, use_re2=True, max_mem=1024*1024*1024, supported_options=['third-party', 'script', 'domain', 'subdocument'], skip_unsupported_rules=False)\n",
    " \n",
    "adblock_ep_rules_image = AdblockRules(ep_rules, use_re2=True, max_mem=1024*1024*1024, supported_options=['image', 'domain', 'subdocument'], skip_unsupported_rules=False)\n",
    "adblock_ep_rules_image_third = AdblockRules(ep_rules, use_re2=True, max_mem=1024*1024*1024, supported_options=['third-party', 'image', 'domain', 'subdocument'], skip_unsupported_rules=False)\n",
    " \n",
    "adblock_ep_rules_css = AdblockRules(ep_rules, use_re2=True, max_mem=1024*1024*1024, supported_options=['stylesheet', 'domain', 'subdocument'], skip_unsupported_rules=False)\n",
    "adblock_ep_rules_css_third = AdblockRules(ep_rules, use_re2=True, max_mem=1024*1024*1024, supported_options=['third-party', 'stylesheet', 'domain', 'subdocument'], skip_unsupported_rules=False)\n",
    "\n",
    "adblock_ep_rules_xmlhttp = AdblockRules(ep_rules, use_re2=True, max_mem=1024*1024*1024, supported_options=['xmlhttprequest', 'domain', 'subdocument'], skip_unsupported_rules=False)\n",
    "adblock_ep_rules_xmlhttp_third = AdblockRules(ep_rules, use_re2=True, max_mem=1024*1024*1024, supported_options=['third-party', 'xmlhttprequest', 'domain', 'subdocument'], skip_unsupported_rules=False)\n",
    " \n",
    "adblock_ep_rules_third = AdblockRules(ep_rules, use_re2=True, max_mem=1024*1024*1024, supported_options=['third-party', 'domain', 'subdocument'], skip_unsupported_rules=False)\n",
    "adblock_ep_rules_domain = AdblockRules(ep_rules, use_re2=True, max_mem=1024*1024*1024, supported_options=['domain', 'subdocument'], skip_unsupported_rules=False)"
   ]
  },
  {
   "cell_type": "markdown",
   "metadata": {},
   "source": [
    "### Helper functions"
   ]
  },
  {
   "cell_type": "code",
   "execution_count": null,
   "metadata": {},
   "outputs": [],
   "source": [
    "def match_url_el(top_level_url, current_url, resource_type):\n",
    "    try:\n",
    "        domain_top_level = du.get_ps_plus_1(top_level_url)\n",
    "        current_domain = du.get_ps_plus_1(current_url)\n",
    "\n",
    "        if domain_top_level == current_domain:\n",
    "            third_party_check = False\n",
    "        else:\n",
    "            third_party_check = True\n",
    "\n",
    "        if resource_type == 'sub_frame':\n",
    "            subdocument_check = True\n",
    "        else:\n",
    "            subdocument_check = False\n",
    "\n",
    "        if resource_type == 'script':\n",
    "            if third_party_check:\n",
    "                adblock_el_rules = adblock_el_rules_script_third\n",
    "                options = {'third-party': True, 'script': True, 'domain': domain_top_level, 'subdocument': subdocument_check}\n",
    "            else:\n",
    "                adblock_el_rules = adblock_el_rules_script\n",
    "                options = {'script': True, 'domain': domain_top_level, 'subdocument': subdocument_check}\n",
    "\n",
    "        elif resource_type == 'image' or resource_type == 'imageset':\n",
    "            if third_party_check:\n",
    "                adblock_el_rules = adblock_el_rules_image_third\n",
    "                options = {'third-party': True, 'image': True, 'domain': domain_top_level, 'subdocument': subdocument_check}\n",
    "            else:\n",
    "                adblock_el_rules = adblock_el_rules_image\n",
    "                options = {'image': True, 'domain': domain_top_level, 'subdocument': subdocument_check}\n",
    "\n",
    "        elif resource_type == 'stylesheet':\n",
    "            if third_party_check:\n",
    "                adblock_el_rules = adblock_el_rules_css_third\n",
    "                options = {'third-party': True, 'stylesheet': True, 'domain': domain_top_level, 'subdocument': subdocument_check}\n",
    "            else:\n",
    "                adblock_el_rules = adblock_el_rules_css\n",
    "                options = {'stylesheet': True, 'domain': domain_top_level, 'subdocument': subdocument_check}\n",
    "\n",
    "        elif resource_type == 'xmlhttprequest':\n",
    "            if third_party_check:\n",
    "                adblock_el_rules = adblock_el_rules_xmlhttp_third\n",
    "                options = {'third-party': True, 'xmlhttprequest': True, 'domain': domain_top_level, 'subdocument': subdocument_check}\n",
    "            else:\n",
    "                adblock_el_rules = adblock_el_rules_xmlhttp\n",
    "                options = {'xmlhttprequest': True, 'domain': domain_top_level, 'subdocument': subdocument_check}\n",
    "\n",
    "        elif third_party_check:\n",
    "            adblock_el_rules = adblock_el_rules_third\n",
    "            options = {'third-party': True, 'domain': domain_top_level, 'subdocument': subdocument_check}\n",
    "\n",
    "        else:\n",
    "            adblock_el_rules = adblock_el_rules_domain\n",
    "            options = {'domain': domain_top_level, 'subdocument': subdocument_check}\n",
    "\n",
    "        return adblock_el_rules.should_block(current_url, options)\n",
    "    except:\n",
    "        return False\n",
    "    \n",
    "\n",
    "def match_url_ep(top_level_url, current_url, resource_type):\n",
    "    try:\n",
    "        domain_top_level = du.get_ps_plus_1(top_level_url)\n",
    "        current_domain = du.get_ps_plus_1(current_url)\n",
    "\n",
    "        if domain_top_level == current_domain:\n",
    "            third_party_check = False\n",
    "        else:\n",
    "            third_party_check = True\n",
    "\n",
    "        if resource_type == 'sub_frame':\n",
    "            subdocument_check = True\n",
    "        else:\n",
    "            subdocument_check = False\n",
    "\n",
    "        if resource_type == 'script':\n",
    "            if third_party_check:\n",
    "                adblock_ep_rules = adblock_ep_rules_script_third\n",
    "                options = {'third-party': True, 'script': True, 'domain': domain_top_level, 'subdocument': subdocument_check}\n",
    "            else:\n",
    "                adblock_ep_rules = adblock_ep_rules_script\n",
    "                options = {'script': True, 'domain': domain_top_level, 'subdocument': subdocument_check}\n",
    "\n",
    "        elif resource_type == 'image' or resource_type == 'imageset':\n",
    "            if third_party_check:\n",
    "                adblock_ep_rules = adblock_ep_rules_image_third\n",
    "                options = {'third-party': True, 'image': True, 'domain': domain_top_level, 'subdocument': subdocument_check}\n",
    "            else:\n",
    "                adblock_ep_rules = adblock_ep_rules_image\n",
    "                options = {'image': True, 'domain': domain_top_level, 'subdocument': subdocument_check}\n",
    "\n",
    "        elif resource_type == 'stylesheet':\n",
    "            if third_party_check:\n",
    "                adblock_ep_rules = adblock_ep_rules_css_third\n",
    "                options = {'third-party': True, 'stylesheet': True, 'domain': domain_top_level, 'subdocument': subdocument_check}\n",
    "            else:\n",
    "                adblock_ep_rules = adblock_ep_rules_css\n",
    "                options = {'stylesheet': True, 'domain': domain_top_level, 'subdocument': subdocument_check}\n",
    "\n",
    "        elif resource_type == 'xmlhttprequest':\n",
    "            if third_party_check:\n",
    "                adblock_ep_rules = adblock_ep_rules_xmlhttp_third\n",
    "                options = {'third-party': True, 'xmlhttprequest': True, 'domain': domain_top_level, 'subdocument': subdocument_check}\n",
    "            else:\n",
    "                adblock_ep_rules = adblock_ep_rules_xmlhttp\n",
    "                options = {'xmlhttprequest': True, 'domain': domain_top_level, 'subdocument': subdocument_check}\n",
    "\n",
    "        elif third_party_check:\n",
    "            adblock_ep_rules = adblock_ep_rules_third\n",
    "            options = {'third-party': True, 'domain': domain_top_level, 'subdocument': subdocument_check}\n",
    "\n",
    "        else:\n",
    "            adblock_ep_rules = adblock_ep_rules_domain\n",
    "            options = {'domain': domain_top_level, 'subdocument': subdocument_check}\n",
    "\n",
    "        return adblock_ep_rules.should_block(current_url, options)\n",
    "    except:\n",
    "        return False"
   ]
  },
  {
   "cell_type": "code",
   "execution_count": null,
   "metadata": {},
   "outputs": [],
   "source": [
    "json_representation = utilities.read_json(json_representation_dir)"
   ]
  },
  {
   "cell_type": "markdown",
   "metadata": {},
   "source": [
    "## Label ads/trackers"
   ]
  },
  {
   "cell_type": "code",
   "execution_count": null,
   "metadata": {},
   "outputs": [],
   "source": [
    "def match_with_fl(item):\n",
    "    try:\n",
    "        splitted_item = item.split('|-|-|')\n",
    "        key = splitted_item[0]\n",
    "        top_url = splitted_item[1]\n",
    "        current_url = splitted_item[2]\n",
    "        resource_type = splitted_item[3]\n",
    "\n",
    "        if match_url_ep(top_url, current_url, resource_type) or match_url_el(top_url, current_url, resource_type):\n",
    "            return key + '|' + str(True)\n",
    "        else:\n",
    "            return key + '|' + str(False)\n",
    "    except:\n",
    "        return 'INVALID'"
   ]
  },
  {
   "cell_type": "code",
   "execution_count": null,
   "metadata": {},
   "outputs": [],
   "source": [
    "key_map = []\n",
    "for key in json_representation:\n",
    "    top_url = json_representation[key]['top_url']\n",
    "    for request in json_representation[key]['content']:\n",
    "        resource_type = request['resource_type']\n",
    "        current_url = request['url']\n",
    "        redirect_id = request['redirect_id']\n",
    "        if top_url == None:\n",
    "            top_url = ''\n",
    "        key_map.append(key + '|' + str(redirect_id) + '|-|-|' + top_url + '|-|-|' + current_url + '|-|-|' + resource_type)"
   ]
  },
  {
   "cell_type": "code",
   "execution_count": null,
   "metadata": {},
   "outputs": [],
   "source": [
    "cpu_to_relax = 1\n",
    "pool = ThreadPool(processes=multiprocessing.cpu_count() - cpu_to_relax)\n",
    "results = pool.map(match_with_fl, key_map)\n",
    "pool.close()\n",
    "pool.join()"
   ]
  },
  {
   "cell_type": "code",
   "execution_count": null,
   "metadata": {},
   "outputs": [],
   "source": [
    "for key in json_representation:\n",
    "    json_representation[key]['ground_truth'] = False"
   ]
  },
  {
   "cell_type": "code",
   "execution_count": null,
   "metadata": {},
   "outputs": [],
   "source": [
    "for r_item in results:\n",
    "    key = r_item.rsplit('|', 1)[0].rsplit('|', 1)[0]\n",
    "    redirect_id = r_item.rsplit('|', 1)[0].rsplit('|', 1)[1]\n",
    "    label = True if r_item.rsplit('|', 1)[1] == 'True' else False\n",
    "\n",
    "    json_representation[key]['ground_truth'] = label\n",
    "    for request in json_representation[key]['content']:\n",
    "        current_redirect_id = request['redirect_id']\n",
    "        \n",
    "        if int(current_redirect_id) == int(redirect_id):\n",
    "            request['ground_truth'] = label"
   ]
  },
  {
   "cell_type": "code",
   "execution_count": null,
   "metadata": {},
   "outputs": [],
   "source": [
    "utilities.write_json(json_representation_dir_labeled, json_representation)"
   ]
  }
 ],
 "metadata": {
  "kernelspec": {
   "display_name": "Python 2",
   "language": "python",
   "name": "python2"
  },
  "language_info": {
   "codemirror_mode": {
    "name": "ipython",
    "version": 2
   },
   "file_extension": ".py",
   "mimetype": "text/x-python",
   "name": "python",
   "nbconvert_exporter": "python",
   "pygments_lexer": "ipython2",
   "version": "2.7.12"
  }
 },
 "nbformat": 4,
 "nbformat_minor": 2
}
