{
 "cells": [
  {
   "cell_type": "code",
   "execution_count": null,
   "metadata": {},
   "outputs": [],
   "source": [
    "import pandas as pd\n",
    "import numpy as np\n",
    "from sklearn.ensemble import RandomForestClassifier\n",
    "from sklearn.model_selection import StratifiedKFold\n",
    "from tqdm.notebook import tqdm\n",
    "import joblib\n",
    "import utilities"
   ]
  },
  {
   "cell_type": "code",
   "execution_count": null,
   "metadata": {},
   "outputs": [],
   "source": [
    "base_directory = 'khaleesi/data/'\n",
    "\n",
    "final_data_set = base_directory + 'final_dataset.csv'\n",
    "final_targets = base_directory + 'final_targets.csv'\n",
    "\n",
    "predictions_dir = base_directory + 'detections.csv'\n",
    "\n",
    "json_representation_http_dir = base_directory + 'crawl-http-labeled.json'\n",
    "json_representation_js_dir = base_directory + 'crawl-js-connected-labeled.json'"
   ]
  },
  {
   "cell_type": "code",
   "execution_count": null,
   "metadata": {},
   "outputs": [],
   "source": [
    "dataset = pd.read_csv(final_data_set)\n",
    "ground_truth = pd.read_csv(final_targets)"
   ]
  },
  {
   "cell_type": "code",
   "execution_count": null,
   "metadata": {},
   "outputs": [],
   "source": [
    "chain_ids = []\n",
    "redirect_ids = []\n",
    "features = []\n",
    "targets = []\n",
    "\n",
    "pbar = tqdm(total=len(dataset), position=0, leave=True)\n",
    "\n",
    "for i in range(len(dataset)):\n",
    "    pbar.update(1)\n",
    "\n",
    "    identifier = dataset.iloc[i][1]\n",
    "    identifier_split = identifier.split('|')\n",
    "    chain_id = '|'.join(identifier_split[:-1])\n",
    "    redirect_id = identifier_split[-1]\n",
    "    row = dataset.iloc[i].values[2:]\n",
    "    target = ground_truth.iloc[i].values[1]\n",
    "\n",
    "    chain_ids.append(chain_id)\n",
    "    redirect_ids.append(redirect_id)\n",
    "    features.append(row)\n",
    "    targets.append(target)"
   ]
  },
  {
   "cell_type": "code",
   "execution_count": null,
   "metadata": {},
   "outputs": [],
   "source": [
    "def cross_validation(clf, x, y, folds=10):\n",
    "    all_predictions = [None] * len(x)\n",
    "    skf = StratifiedKFold(n_splits=folds, shuffle=True, random_state=42)\n",
    "    cv_iter = skf.split(x, y)\n",
    "    \n",
    "    count = 1\n",
    "    for train, test in cv_iter:\n",
    "        print('Iter', count)\n",
    "        count += 1\n",
    "        clf.fit(x[train], y[train])\n",
    "        predictions = clf.predict(x[test])\n",
    "        for i in range(len(predictions)):\n",
    "            all_predictions[test[i]] = predictions[i]\n",
    "            \n",
    "    return all_predictions"
   ]
  },
  {
   "cell_type": "code",
   "execution_count": null,
   "metadata": {},
   "outputs": [],
   "source": [
    "clf = RandomForestClassifier(n_estimators=100, n_jobs=7, random_state=3)\n",
    "all_predictions = cross_validation(clf, np.array(features), np.array(targets))"
   ]
  },
  {
   "cell_type": "code",
   "execution_count": null,
   "metadata": {},
   "outputs": [],
   "source": [
    "results_dict = {}\n",
    "results_earliest = set()\n",
    "\n",
    "for idx, item in enumerate(all_predictions):\n",
    "    if item == 0:\n",
    "        continue\n",
    "    \n",
    "    chain_id = chain_ids[idx]\n",
    "    current_redirect_id = redirect_ids[idx]\n",
    "    \n",
    "    if chain_id.startswith('H|'):\n",
    "        if current_redirect_id == '0':\n",
    "            continue\n",
    "        if chain_id in results_dict:\n",
    "            previous_redirect_id = results_dict[chain_id]\n",
    "            if int(current_redirect_id) < int(previous_redirect_id):\n",
    "                results_dict[chain_id] = current_redirect_id\n",
    "\n",
    "        else:\n",
    "            results_dict[chain_id] = current_redirect_id\n",
    "    else:\n",
    "        results_earliest.add(chain_id + '|' + current_redirect_id)\n",
    "            \n",
    "for item in results_dict:\n",
    "    results_earliest.add(item + '|' + results_dict[item])"
   ]
  },
  {
   "cell_type": "code",
   "execution_count": null,
   "metadata": {},
   "outputs": [],
   "source": [
    "utilities.write_list_simple(predictions_dir, results_earliest)"
   ]
  }
 ],
 "metadata": {
  "kernelspec": {
   "display_name": "Python 3",
   "language": "python",
   "name": "python3"
  },
  "language_info": {
   "codemirror_mode": {
    "name": "ipython",
    "version": 3
   },
   "file_extension": ".py",
   "mimetype": "text/x-python",
   "name": "python",
   "nbconvert_exporter": "python",
   "pygments_lexer": "ipython3",
   "version": "3.5.2"
  }
 },
 "nbformat": 4,
 "nbformat_minor": 2
}
