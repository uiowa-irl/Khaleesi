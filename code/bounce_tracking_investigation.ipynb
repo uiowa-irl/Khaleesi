{
 "cells": [
  {
   "cell_type": "code",
   "execution_count": 2,
   "metadata": {},
   "outputs": [],
   "source": [
    "import json\n",
    "import utilities\n",
    "from dateutil.parser import parse\n",
    "from urllib import parse as URLparse\n",
    "from openwpm_utils import domain as du\n",
    "from collections import OrderedDict\n",
    "from prettytable import PrettyTable\n",
    "from tqdm.notebook import tqdm"
   ]
  },
  {
   "cell_type": "code",
   "execution_count": 10,
   "metadata": {},
   "outputs": [],
   "source": [
    "base_directory = 'khaleesi/data/'\n",
    "\n",
    "fx_interactive_http_dir = base_directory + 'crawl-http-labeled.json'\n",
    "fx_interactive_js_dir = base_directory + 'crawl-js-connected-labeled.json'\n",
    "\n",
    "top_10k_dir = base_directory + 'top-10K.csv'"
   ]
  },
  {
   "cell_type": "code",
   "execution_count": 11,
   "metadata": {},
   "outputs": [],
   "source": [
    "top_10k_raw = utilities.read_file_newline_stripped(top_10k_dir)"
   ]
  },
  {
   "cell_type": "code",
   "execution_count": 12,
   "metadata": {},
   "outputs": [],
   "source": [
    "top_10k = set()\n",
    "for item in top_10k_raw:\n",
    "    top_10k.add(du.get_ps_plus_1('http://www.' + item.split(',')[1]))"
   ]
  },
  {
   "cell_type": "code",
   "execution_count": 6,
   "metadata": {},
   "outputs": [],
   "source": [
    "fx_interactive_http = utilities.read_json(fx_interactive_http_dir)\n",
    "fx_interactive_js = utilities.read_json(fx_interactive_js_dir)"
   ]
  },
  {
   "cell_type": "markdown",
   "metadata": {},
   "source": [
    "### Heuristic\n",
    "1. Navigate to third party webpages\n",
    "2. Set a cookie\n",
    "3. Come back to first party webpages"
   ]
  },
  {
   "cell_type": "code",
   "execution_count": 13,
   "metadata": {},
   "outputs": [],
   "source": [
    "def get_domain_or_hostname(url):\n",
    "    # we stop if we cannot retrieve the domain or hostanmes\n",
    "    # we won't be able to link domains/hostnames if they are empty or unavailable  \n",
    "    current_domain_or_hostname = du.get_ps_plus_1(url)\n",
    "    \n",
    "    if current_domain_or_hostname == '' or current_domain_or_hostname == None:\n",
    "        current_domain_or_hostname = du.urlparse(url).hostname\n",
    "        if current_domain_or_hostname == '' or current_domain_or_hostname == None:\n",
    "            return False, ''\n",
    "    \n",
    "    return True, current_domain_or_hostname"
   ]
  },
  {
   "cell_type": "code",
   "execution_count": 14,
   "metadata": {},
   "outputs": [],
   "source": [
    "def find_bounce_trackers(json_representation):\n",
    "    pbar = tqdm(total=len(json_representation), position=0, leave=True)\n",
    "    bounce_tracking_candidates = {}\n",
    "    for key in json_representation:\n",
    "        pbar.update(1)\n",
    "\n",
    "        top_url = json_representation[key]['top_url']\n",
    "        top_domain_or_hostname = get_domain_or_hostname(top_url)\n",
    "\n",
    "        if not top_domain_or_hostname[0]:\n",
    "            continue\n",
    "\n",
    "        top_domain_or_hostname = top_domain_or_hostname[1]\n",
    "\n",
    "        for idx, item in enumerate(json_representation[key]['content']):\n",
    "            current_url = item['url']\n",
    "            current_domain_or_hostname = get_domain_or_hostname(current_url)\n",
    "\n",
    "            if not current_domain_or_hostname[0]:\n",
    "                continue\n",
    "\n",
    "            current_domain_or_hostname = current_domain_or_hostname[1]\n",
    "\n",
    "            if top_domain_or_hostname == current_domain_or_hostname:\n",
    "                continue\n",
    "            \n",
    "            # because we start after seeing the first third party\n",
    "            encountered_third_parties = 1 \n",
    "            encountered_first_party = False\n",
    "            last_redirect = False\n",
    "            third_parties_setting_cookies = set()\n",
    "            third_parties_accessing_cookies = set()\n",
    "            \n",
    "            third_party_main_page = False\n",
    "            first_party_main_page = False\n",
    "            \n",
    "            if item['resource_type'] == 'main_frame':\n",
    "                third_party_main_page = True\n",
    "            \n",
    "            if not third_party_main_page:\n",
    "                continue\n",
    "            \n",
    "            for s_item in item['request_headers']:\n",
    "                if s_item[0].lower() == 'cookie':\n",
    "                    third_parties_accessing_cookies.add(current_domain_or_hostname)\n",
    "\n",
    "            for s_item in item['response_headers']:\n",
    "                if s_item[0].lower() == 'set-cookie':\n",
    "                    third_parties_setting_cookies.add(current_domain_or_hostname)\n",
    "            \n",
    "\n",
    "            for idx_1 in range(idx+1, len(json_representation[key]['content'])):\n",
    "                item_1 = json_representation[key]['content'][idx_1]\n",
    "                next_url = item_1['url']\n",
    "                next_domain_or_hostname = get_domain_or_hostname(next_url)\n",
    "\n",
    "                if not next_domain_or_hostname[0]:\n",
    "                    continue\n",
    "\n",
    "                next_domain_or_hostname = next_domain_or_hostname[1]\n",
    "                \n",
    "                if next_domain_or_hostname == top_domain_or_hostname:\n",
    "                    encountered_first_party = True\n",
    "\n",
    "                    # We shoud also check if this is the last redirect\n",
    "                    if idx_1+1 == len(json_representation[key]['content']):\n",
    "                        last_redirect = True\n",
    "                    \n",
    "                    if item_1['resource_type'] == 'main_frame':\n",
    "                        first_party_main_page = True\n",
    "                        break\n",
    "\n",
    "                elif next_domain_or_hostname != current_domain_or_hostname:\n",
    "                    encountered_third_parties += 1 \n",
    "                    \n",
    "                    if item_1['resource_type'] == 'main_frame':\n",
    "                        third_party_main_page = True\n",
    "                    \n",
    "                    if not third_party_main_page:\n",
    "                        continue\n",
    "                    \n",
    "                    for s_item in item_1['request_headers']:\n",
    "                        if s_item[0].lower() == 'cookie':\n",
    "                            third_parties_accessing_cookies.add(next_domain_or_hostname)\n",
    "                \n",
    "                    for s_item in item_1['response_headers']:\n",
    "                        if s_item[0].lower() == 'set-cookie':\n",
    "                            third_parties_setting_cookies.add(next_domain_or_hostname)\n",
    "                    \n",
    "                else:\n",
    "                    if item_1['resource_type'] == 'main_frame':\n",
    "                        third_party_main_page = True\n",
    "                        \n",
    "                    if not third_party_main_page:\n",
    "                        continue\n",
    "                        \n",
    "                    for s_item in item_1['request_headers']:\n",
    "                        if s_item[0].lower() == 'cookie':\n",
    "                            third_parties_accessing_cookies.add(next_domain_or_hostname)\n",
    "                \n",
    "                    for s_item in item_1['response_headers']:\n",
    "                        if s_item[0].lower() == 'set-cookie':\n",
    "                            third_parties_setting_cookies.add(next_domain_or_hostname)\n",
    "\n",
    "            # if encountered_first_party:\n",
    "            if first_party_main_page and third_party_main_page:\n",
    "                bounce_tracking_candidates[key] = {}\n",
    "                bounce_tracking_candidates[key]['last_redirect'] = last_redirect\n",
    "                bounce_tracking_candidates[key]['accessing_cookies'] = third_parties_accessing_cookies\n",
    "                bounce_tracking_candidates[key]['setting_cookies'] = third_parties_setting_cookies\n",
    "                break\n",
    "    return bounce_tracking_candidates\n",
    "            "
   ]
  },
  {
   "cell_type": "code",
   "execution_count": 15,
   "metadata": {},
   "outputs": [
    {
     "data": {
      "application/vnd.jupyter.widget-view+json": {
       "model_id": "b88bbbf64da24267b525f247bc7089dc",
       "version_major": 2,
       "version_minor": 0
      },
      "text/plain": [
       "HBox(children=(IntProgress(value=0, max=166018), HTML(value='')))"
      ]
     },
     "metadata": {},
     "output_type": "display_data"
    }
   ],
   "source": [
    "bounce_tracking_candidates = find_bounce_trackers(fx_interactive_http)"
   ]
  },
  {
   "cell_type": "code",
   "execution_count": 16,
   "metadata": {},
   "outputs": [
    {
     "name": "stdout",
     "output_type": "stream",
     "text": [
      "178\n"
     ]
    }
   ],
   "source": [
    "print(len(bounce_tracking_candidates))"
   ]
  },
  {
   "cell_type": "code",
   "execution_count": 17,
   "metadata": {
    "scrolled": true
   },
   "outputs": [
    {
     "name": "stdout",
     "output_type": "stream",
     "text": [
      "Bounce tracking chains: 161\n"
     ]
    }
   ],
   "source": [
    "bounce_tracking_chains_count = 0\n",
    "cookie_setting_domains = {}\n",
    "for key in bounce_tracking_candidates:\n",
    "    if len(bounce_tracking_candidates[key]['setting_cookies']) > 0:\n",
    "        bounce_tracking_chains_count += 1\n",
    "    for domain in bounce_tracking_candidates[key]['setting_cookies']:\n",
    "        if domain not in cookie_setting_domains:\n",
    "            cookie_setting_domains[domain] = {}\n",
    "            cookie_setting_domains[domain]['chains'] = set()\n",
    "        cookie_setting_domains[domain]['chains'].add(key)\n",
    "\n",
    "print('Bounce tracking chains:', bounce_tracking_chains_count)"
   ]
  },
  {
   "cell_type": "code",
   "execution_count": 18,
   "metadata": {},
   "outputs": [],
   "source": [
    "def print_table(json_obj, count_limit = 20):\n",
    "    count = 0\n",
    "    t = PrettyTable(['Domains', 'count'])\n",
    "    for key in json_obj:\n",
    "        count += 1\n",
    "        if count <= count_limit:\n",
    "            t.add_row([key, len(json_obj[key]['top_domains'])])\n",
    "            \n",
    "    print(t)\n",
    "    \n",
    "def get_top_bouncers(third_parties):\n",
    "    third_parties_sorted = OrderedDict(sorted(third_parties.items(), key=lambda k: len(k[1]['top_domains']), reverse=True))\n",
    "    \n",
    "    print_table(third_parties_sorted)"
   ]
  },
  {
   "cell_type": "code",
   "execution_count": 19,
   "metadata": {},
   "outputs": [
    {
     "data": {
      "text/plain": [
       "14"
      ]
     },
     "execution_count": 19,
     "metadata": {},
     "output_type": "execute_result"
    }
   ],
   "source": [
    "cookie_setting_domains_non_10k = {}\n",
    "for item in cookie_setting_domains:\n",
    "    if item not in top_10k:\n",
    "        cookie_setting_domains_non_10k[item] = cookie_setting_domains[item]\n",
    "\n",
    "len(cookie_setting_domains_non_10k)"
   ]
  },
  {
   "cell_type": "code",
   "execution_count": 20,
   "metadata": {},
   "outputs": [],
   "source": [
    "def count_bounce_prevalence(json_representation, cookie_setting_domains_non_10k):\n",
    "    pbar = tqdm(total=len(json_representation), position=0, leave=True)\n",
    "    for key in json_representation:\n",
    "        pbar.update(1)\n",
    "\n",
    "        top_url = json_representation[key]['top_url']\n",
    "        top_domain_or_hostname = get_domain_or_hostname(top_url)\n",
    "\n",
    "        if not top_domain_or_hostname[0]:\n",
    "            continue\n",
    "\n",
    "        top_domain_or_hostname = top_domain_or_hostname[1]\n",
    "\n",
    "        for idx, item in enumerate(json_representation[key]['content']):\n",
    "            current_url = item['url']\n",
    "            current_domain = get_domain_or_hostname(current_url)[1]\n",
    "\n",
    "            if current_domain in cookie_setting_domains_non_10k:\n",
    "                if 'top_domains' not in cookie_setting_domains_non_10k[current_domain]:\n",
    "                    cookie_setting_domains_non_10k[current_domain]['top_domains'] = set()\n",
    "                cookie_setting_domains_non_10k[current_domain]['top_domains'].add(top_domain_or_hostname)\n",
    "                break\n",
    "                \n",
    "    return cookie_setting_domains_non_10k"
   ]
  },
  {
   "cell_type": "code",
   "execution_count": 21,
   "metadata": {},
   "outputs": [
    {
     "data": {
      "application/vnd.jupyter.widget-view+json": {
       "model_id": "0518f458d17640748f98a4ca4bb790a1",
       "version_major": 2,
       "version_minor": 0
      },
      "text/plain": [
       "HBox(children=(IntProgress(value=0, max=166018), HTML(value='')))"
      ]
     },
     "metadata": {},
     "output_type": "display_data"
    },
    {
     "data": {
      "application/vnd.jupyter.widget-view+json": {
       "model_id": "173089b599f94a0f932f25aa3804f8ed",
       "version_major": 2,
       "version_minor": 0
      },
      "text/plain": [
       "HBox(children=(IntProgress(value=0, max=130187), HTML(value='')))"
      ]
     },
     "metadata": {},
     "output_type": "display_data"
    }
   ],
   "source": [
    "cookie_setting_domains_non_10k = count_bounce_prevalence(fx_interactive_http, cookie_setting_domains_non_10k)\n",
    "cookie_setting_domains_non_10k = count_bounce_prevalence(fx_interactive_js, cookie_setting_domains_non_10k)"
   ]
  },
  {
   "cell_type": "code",
   "execution_count": 22,
   "metadata": {},
   "outputs": [
    {
     "name": "stdout",
     "output_type": "stream",
     "text": [
      "+----------------------+-------+\n",
      "|       Domains        | count |\n",
      "+----------------------+-------+\n",
      "| googleadservices.com |  3073 |\n",
      "|      adsrvr.org      |  1377 |\n",
      "|      adform.net      |  322  |\n",
      "|   flashtalking.com   |  141  |\n",
      "|     queue-it.net     |   9   |\n",
      "|  elsevierhealth.com  |   3   |\n",
      "|      bngpt.com       |   2   |\n",
      "|      optrck.com      |   2   |\n",
      "|      olsvc.com       |   1   |\n",
      "|     editorx.com      |   1   |\n",
      "|   bridgetrack.com    |   1   |\n",
      "|    surfconext.nl     |   1   |\n",
      "| depositaccounts.com  |   1   |\n",
      "|      kodeks.ru       |   1   |\n",
      "+----------------------+-------+\n"
     ]
    }
   ],
   "source": [
    "get_top_bouncers(cookie_setting_domains_non_10k)"
   ]
  },
  {
   "cell_type": "code",
   "execution_count": null,
   "metadata": {},
   "outputs": [],
   "source": []
  }
 ],
 "metadata": {
  "kernelspec": {
   "display_name": "Python 3",
   "language": "python",
   "name": "python3"
  },
  "language_info": {
   "codemirror_mode": {
    "name": "ipython",
    "version": 3
   },
   "file_extension": ".py",
   "mimetype": "text/x-python",
   "name": "python",
   "nbconvert_exporter": "python",
   "pygments_lexer": "ipython3",
   "version": "3.5.2"
  }
 },
 "nbformat": 4,
 "nbformat_minor": 2
}
