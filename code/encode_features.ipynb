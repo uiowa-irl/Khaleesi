{
 "cells": [
  {
   "cell_type": "code",
   "execution_count": null,
   "metadata": {},
   "outputs": [],
   "source": [
    "import pandas as pd"
   ]
  },
  {
   "cell_type": "code",
   "execution_count": null,
   "metadata": {},
   "outputs": [],
   "source": [
    "base_directory = 'khaleesi/data/'\n",
    "\n",
    "http_features_dir = base_directory + 'http-chains-features.csv'\n",
    "js_features_dir = base_directory + 'js-chains-features.csv'\n",
    "\n",
    "all_encoded_features = base_directory + 'all-features-encoded.csv'"
   ]
  },
  {
   "cell_type": "code",
   "execution_count": null,
   "metadata": {},
   "outputs": [],
   "source": [
    "http_dataset = pd.read_csv(http_features_dir)\n",
    "js_dataset = pd.read_csv(js_features_dir)"
   ]
  },
  {
   "cell_type": "code",
   "execution_count": null,
   "metadata": {},
   "outputs": [],
   "source": [
    "http_dataset['http/js'] = [0] * len(http_dataset)\n",
    "js_dataset['http/js'] = [1] * len(js_dataset)\n",
    "\n",
    "dataset = pd.concat([http_dataset, js_dataset], sort=False)"
   ]
  },
  {
   "cell_type": "code",
   "execution_count": null,
   "metadata": {},
   "outputs": [],
   "source": [
    "encoded_dataset = pd.DataFrame()\n",
    "\n",
    "column_name_count = set()\n",
    "\n",
    "unchanged_columns = ['identifier', 'length_of_url', 'has_subdomains', 'subdomain_of_top_level_domain_check',\\\n",
    "                     'url_has_uuid', 'url_has_dimensions', 'third_party_domain', \\\n",
    "                     'num_non_alphanumeric_chars_in_query_string', 'top_domain_in_query_string',\\\n",
    "                     'num_request_cookies', 'semi_colons_in_url', 'query_string_length', 'keyword_in_url_re',\\\n",
    "                     'keyword_in_url', 'length_of_chain', 'num_unique_domains', 'num_request_headers', 'http/js']\n",
    "\n",
    "for element in unchanged_columns:\n",
    "    encoded_dataset[element] = dataset[element]"
   ]
  },
  {
   "cell_type": "code",
   "execution_count": null,
   "metadata": {},
   "outputs": [],
   "source": [
    "to_encode = ['request_method', 'response_status', 'etag_in_header', 'p3p_in_header', 'resource_type',\\\n",
    "             'response_sets_cookie', 'response_type', 'response_subtype', 'redirect_to_new_domain']\n",
    "\n",
    "for element in to_encode:\n",
    "    encoded_element = pd.get_dummies(dataset[element])\n",
    "    for key in encoded_element:\n",
    "        if key in column_name_count:\n",
    "            encoded_dataset[key + '_' + element] = encoded_element[key]\n",
    "        else:\n",
    "            encoded_dataset[key] = encoded_element[key]\n",
    "            column_name_count.add(key)"
   ]
  },
  {
   "cell_type": "code",
   "execution_count": null,
   "metadata": {},
   "outputs": [],
   "source": [
    "def average_column(column):\n",
    "    values = []\n",
    "    \n",
    "    for num in dataset[column]:\n",
    "        if num != '?':\n",
    "            values.append(int(num))\n",
    "    \n",
    "    return sum(values) / len(values)"
   ]
  },
  {
   "cell_type": "code",
   "execution_count": null,
   "metadata": {},
   "outputs": [],
   "source": [
    "to_replace = ['content_length', 'num_response_headers']\n",
    "\n",
    "for element in to_replace:\n",
    "    encoded_dataset[element] = dataset[element].replace('?', average_column(element))"
   ]
  },
  {
   "cell_type": "code",
   "execution_count": null,
   "metadata": {},
   "outputs": [],
   "source": [
    "encoded_dataset['target'] = dataset['target']"
   ]
  },
  {
   "cell_type": "code",
   "execution_count": null,
   "metadata": {},
   "outputs": [],
   "source": [
    "encoded_dataset.to_csv(all_encoded_features, index=False)"
   ]
  }
 ],
 "metadata": {
  "kernelspec": {
   "display_name": "Python 3",
   "language": "python",
   "name": "python3"
  },
  "language_info": {
   "codemirror_mode": {
    "name": "ipython",
    "version": 3
   },
   "file_extension": ".py",
   "mimetype": "text/x-python",
   "name": "python",
   "nbconvert_exporter": "python",
   "pygments_lexer": "ipython3",
   "version": "3.5.2"
  }
 },
 "nbformat": 4,
 "nbformat_minor": 2
}
